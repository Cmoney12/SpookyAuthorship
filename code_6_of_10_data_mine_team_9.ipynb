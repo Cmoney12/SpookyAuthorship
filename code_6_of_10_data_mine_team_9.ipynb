{
 "cells": [
  {
   "cell_type": "markdown",
   "id": "c3abf85c-ff55-445a-b3d4-07ca3d00ca8c",
   "metadata": {},
   "source": [
    "# Spooky Authorship\n",
    "## Team 9\n",
    "### Corey Lovette, Jason Lerner, Jason Perkins, Savitha Samudrala"
   ]
  },
  {
   "cell_type": "code",
   "execution_count": null,
   "id": "1794d17a-f486-425e-8de7-e7e02f543347",
   "metadata": {},
   "outputs": [],
   "source": []
  }
 ],
 "metadata": {
  "kernelspec": {
   "display_name": "Python 3 (ipykernel)",
   "language": "python",
   "name": "python3"
  },
  "language_info": {
   "codemirror_mode": {
    "name": "ipython",
    "version": 3
   },
   "file_extension": ".py",
   "mimetype": "text/x-python",
   "name": "python",
   "nbconvert_exporter": "python",
   "pygments_lexer": "ipython3",
   "version": "3.10.12"
  }
 },
 "nbformat": 4,
 "nbformat_minor": 5
}
