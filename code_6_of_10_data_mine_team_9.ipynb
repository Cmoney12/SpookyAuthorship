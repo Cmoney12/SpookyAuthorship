{
  "cells": [
    {
      "cell_type": "markdown",
      "id": "c3abf85c-ff55-445a-b3d4-07ca3d00ca8c",
      "metadata": {
        "id": "c3abf85c-ff55-445a-b3d4-07ca3d00ca8c"
      },
      "source": [
        "# Spooky Authorship\n",
        "## Team 9\n",
        "### Corey Lovette, Jason Lerner, Jason Perkins, Savitha Samudrala"
      ]
    },
    {
      "cell_type": "code",
      "execution_count": 2,
      "id": "1794d17a-f486-425e-8de7-e7e02f543347",
      "metadata": {
        "colab": {
          "base_uri": "https://localhost:8080/"
        },
        "id": "1794d17a-f486-425e-8de7-e7e02f543347",
        "outputId": "2256b8d5-d712-485a-9c01-68eb9f6c512e"
      },
      "outputs": [
        {
          "output_type": "stream",
          "name": "stdout",
          "text": [
            "Requirement already satisfied: pyspark in /usr/local/lib/python3.11/dist-packages (3.5.1)\n",
            "Requirement already satisfied: py4j==0.10.9.7 in /usr/local/lib/python3.11/dist-packages (from pyspark) (0.10.9.7)\n"
          ]
        }
      ],
      "source": [
        "from pyspark.sql import SparkSession\n",
        "\n",
        "spark = SparkSession.builder \\\n",
        "    .appName(\"CSV Loader\") \\\n",
        "    .getOrCreate()"
      ]
    },
    {
      "cell_type": "code",
      "execution_count": 3,
      "id": "1d442ce3-4891-4224-a914-5b4e1938a37d",
      "metadata": {
        "colab": {
          "base_uri": "https://localhost:8080/"
        },
        "id": "1d442ce3-4891-4224-a914-5b4e1938a37d",
        "outputId": "7ced604e-1998-44dc-e1fa-6f6f7b9de9cb"
      },
      "outputs": [
        {
          "output_type": "stream",
          "name": "stdout",
          "text": [
            "\n",
            "Train\n",
            "+-------+--------------------+------+\n",
            "|     id|                text|author|\n",
            "+-------+--------------------+------+\n",
            "|id26305|This process, how...|   EAP|\n",
            "|id17569|It never once occ...|   HPL|\n",
            "|id11008|In his left hand ...|   EAP|\n",
            "|id27763|How lovely is spr...|   MWS|\n",
            "|id12958|Finding nothing e...|   HPL|\n",
            "|id22965|A youth passed in...|   MWS|\n",
            "|id09674|The astronomer, p...|   EAP|\n",
            "|id13515|The surcingle hun...|   EAP|\n",
            "|id19322|I knew that you c...|   EAP|\n",
            "|id00912|I confess that ne...|   MWS|\n",
            "|id16737|\"He shall find th...|   MWS|\n",
            "|id16607|Here we barricade...|   EAP|\n",
            "|id19764|Herbert West need...|   HPL|\n",
            "|id18886|The farm like gro...|   HPL|\n",
            "|id17189|But a glance will...|   EAP|\n",
            "|id12799|He had escaped me...|   MWS|\n",
            "|id08441|To these speeches...|   EAP|\n",
            "|id13117|Her native sprigh...|   MWS|\n",
            "|id14862|I even went so fa...|   EAP|\n",
            "|id20836|His facial aspect...|   HPL|\n",
            "+-------+--------------------+------+\n",
            "only showing top 20 rows\n",
            "\n",
            "\n",
            "Test\n",
            "+-------+--------------------+\n",
            "|     id|                text|\n",
            "+-------+--------------------+\n",
            "|id02310|Still, as I urged...|\n",
            "|id24541|If a fire wanted ...|\n",
            "|id00134|And when they had...|\n",
            "|id27757|While I was think...|\n",
            "|id04081|I am not sure to ...|\n",
            "|id27337|\"\"\"The thick and ...|\n",
            "|id24265|That which is not...|\n",
            "|id25917|I sought for repo...|\n",
            "|id04951|Upon the fourth d...|\n",
            "|id14549|\"\"\"The tone metap...|\n",
            "|id22505|These, the offspr...|\n",
            "|id24002|\"What kept him fr...|\n",
            "|id18982|\"Persuading the w...|\n",
            "|id15181|When I arose trem...|\n",
            "|id21888|And by the shores...|\n",
            "|id12035|Idris heard of he...|\n",
            "|id17991|I say this proudl...|\n",
            "|id10707|\"But let us glanc...|\n",
            "|id07101|\"\"\"What a place i...|\n",
            "|id00345|At his nod I took...|\n",
            "+-------+--------------------+\n",
            "only showing top 20 rows\n",
            "\n"
          ]
        }
      ],
      "source": [
        "df_train = spark.read.csv(\"train.csv\", header=True, inferSchema=True)\n",
        "print(\"\\nTrain\")\n",
        "df_train.show()\n",
        "\n",
        "df_test = spark.read.csv(\"test.csv\", header=True, inferSchema=True)\n",
        "print(\"\\nTest\")\n",
        "df_test.show()"
      ]
    },
    {
      "cell_type": "code",
      "execution_count": 7,
      "id": "236f963d-bc74-42e7-b4ef-f397c807a48b",
      "metadata": {
        "colab": {
          "base_uri": "https://localhost:8080/"
        },
        "id": "236f963d-bc74-42e7-b4ef-f397c807a48b",
        "outputId": "171eb0d0-922c-4c12-a685-22cad8ef5115"
      },
      "outputs": [
        {
          "output_type": "stream",
          "name": "stdout",
          "text": [
            "+---+----+------+\n",
            "| id|text|author|\n",
            "+---+----+------+\n",
            "|  0|   0|     0|\n",
            "+---+----+------+\n",
            "\n"
          ]
        }
      ],
      "source": [
        "# check for null\n",
        "from pyspark.sql.functions import col, isnan, when, count\n",
        "\n",
        "df_train.select([count(when(col(c).isNull() | isnan(c), c)).alias(c) for c in df_train.columns]).show()\n"
      ]
    },
    {
      "cell_type": "code",
      "source": [
        "from pyspark.ml.feature import StopWordsRemover, Tokenizer\n",
        "from pyspark.ml.feature import CountVectorizer, IDF\n",
        "from pyspark.ml.feature import Normalizer\n",
        "from pyspark.ml import Pipeline\n",
        "\n",
        "# Step 1: Tokenization\n",
        "tokenizer = Tokenizer(inputCol=\"text\", outputCol=\"tokens\")\n",
        "df_train_tokenized = tokenizer.transform(df_train)\n",
        "\n",
        "# Step 2: Stop word removal\n",
        "stopwords = StopWordsRemover.loadDefaultStopWords(\"english\") + ['i', 'you', 'he', 'she', 'it', 'we', 'they', 'me', 'him', 'her']\n",
        "remover = StopWordsRemover(inputCol=\"tokens\", outputCol=\"filtered_tokens\", stopWords=stopwords)\n",
        "df_train_filtered = remover.transform(df_train_tokenized)\n",
        "\n",
        "\n",
        "df_train_filtered.show()"
      ],
      "metadata": {
        "colab": {
          "base_uri": "https://localhost:8080/"
        },
        "id": "tetZwc9UwqwW",
        "outputId": "b0f10822-7d10-4719-fa01-b379da71e284"
      },
      "id": "tetZwc9UwqwW",
      "execution_count": 12,
      "outputs": [
        {
          "output_type": "stream",
          "name": "stdout",
          "text": [
            "+-------+--------------------+------+--------------------+--------------------+\n",
            "|     id|                text|author|              tokens|     filtered_tokens|\n",
            "+-------+--------------------+------+--------------------+--------------------+\n",
            "|id26305|This process, how...|   EAP|[this, process,, ...|[process,, howeve...|\n",
            "|id17569|It never once occ...|   HPL|[it, never, once,...|[never, occurred,...|\n",
            "|id11008|In his left hand ...|   EAP|[in, his, left, h...|[left, hand, gold...|\n",
            "|id27763|How lovely is spr...|   MWS|[how, lovely, is,...|[lovely, spring, ...|\n",
            "|id12958|Finding nothing e...|   HPL|[finding, nothing...|[finding, nothing...|\n",
            "|id22965|A youth passed in...|   MWS|[a, youth, passed...|[youth, passed, s...|\n",
            "|id09674|The astronomer, p...|   EAP|[the, astronomer,...|[astronomer,, per...|\n",
            "|id13515|The surcingle hun...|   EAP|[the, surcingle, ...|[surcingle, hung,...|\n",
            "|id19322|I knew that you c...|   EAP|[i, knew, that, y...|[knew, say, 'ster...|\n",
            "|id00912|I confess that ne...|   MWS|[i, confess, that...|[confess, neither...|\n",
            "|id16737|\"He shall find th...|   MWS|[\"he, shall, find...|[\"he, shall, find...|\n",
            "|id16607|Here we barricade...|   EAP|[here, we, barric...|[barricaded, ours...|\n",
            "|id19764|Herbert West need...|   HPL|[herbert, west, n...|[herbert, west, n...|\n",
            "|id18886|The farm like gro...|   HPL|[the, farm, like,...|[farm, like, grou...|\n",
            "|id17189|But a glance will...|   EAP|[but, a, glance, ...|[glance, show, fa...|\n",
            "|id12799|He had escaped me...|   MWS|[he, had, escaped...|[escaped, me,, mu...|\n",
            "|id08441|To these speeches...|   EAP|[to, these, speec...|[speeches, gave,,...|\n",
            "|id13117|Her native sprigh...|   MWS|[her, native, spr...|[native, sprightl...|\n",
            "|id14862|I even went so fa...|   EAP|[i, even, went, s...|[even, went, far,...|\n",
            "|id20836|His facial aspect...|   HPL|[his, facial, asp...|[facial, aspect,,...|\n",
            "+-------+--------------------+------+--------------------+--------------------+\n",
            "only showing top 20 rows\n",
            "\n"
          ]
        }
      ]
    },
    {
      "cell_type": "code",
      "source": [],
      "metadata": {
        "id": "vcFk2jgkxLXp"
      },
      "id": "vcFk2jgkxLXp",
      "execution_count": null,
      "outputs": []
    }
  ],
  "metadata": {
    "kernelspec": {
      "display_name": "Python 3 (ipykernel)",
      "language": "python",
      "name": "python3"
    },
    "language_info": {
      "codemirror_mode": {
        "name": "ipython",
        "version": 3
      },
      "file_extension": ".py",
      "mimetype": "text/x-python",
      "name": "python",
      "nbconvert_exporter": "python",
      "pygments_lexer": "ipython3",
      "version": "3.10.12"
    },
    "colab": {
      "provenance": []
    }
  },
  "nbformat": 4,
  "nbformat_minor": 5
}