{
 "cells": [
  {
   "cell_type": "code",
   "execution_count": null,
   "id": "304fff31-3d16-4cbc-994b-7f979be2c7c6",
   "metadata": {},
   "outputs": [],
   "source": []
  }
 ],
 "metadata": {
  "kernelspec": {
   "display_name": "",
   "name": ""
  },
  "language_info": {
   "name": ""
  }
 },
 "nbformat": 4,
 "nbformat_minor": 5
}
